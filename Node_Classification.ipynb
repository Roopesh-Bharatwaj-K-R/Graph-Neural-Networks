{
  "nbformat": 4,
  "nbformat_minor": 0,
  "metadata": {
    "colab": {
      "provenance": []
    },
    "kernelspec": {
      "name": "python3",
      "display_name": "Python 3"
    },
    "language_info": {
      "name": "python"
    }
  },
  "cells": [
    {
      "cell_type": "markdown",
      "source": [
        "# Node Level Graph ML Application "
      ],
      "metadata": {
        "id": "CG3gah6OMPeH"
      }
    },
    {
      "cell_type": "markdown",
      "source": [
        "# \"Graph Convolutional Neural Network for Node Classification\"\n"
      ],
      "metadata": {
        "id": "OwhZfvlk-Q6b"
      }
    },
    {
      "cell_type": "markdown",
      "source": [
        "The purpose of the code is to classify the nodes in a given graph based on their features and the graph's Edges using a GCN The output of the GCN is a single value for each node, which represents the node's activation or importance in the context of the graph."
      ],
      "metadata": {
        "id": "n70Djx0l-bDL"
      }
    },
    {
      "cell_type": "code",
      "source": [
        "!pip install torch"
      ],
      "metadata": {
        "colab": {
          "base_uri": "https://localhost:8080/"
        },
        "id": "W_pfqEGbCIdx",
        "outputId": "d60a2d81-0678-4d4e-84b0-300ef4ffb9fd"
      },
      "execution_count": 21,
      "outputs": [
        {
          "output_type": "stream",
          "name": "stdout",
          "text": [
            "Looking in indexes: https://pypi.org/simple, https://us-python.pkg.dev/colab-wheels/public/simple/\n",
            "Requirement already satisfied: torch in /usr/local/lib/python3.9/dist-packages (1.13.1+cu116)\n",
            "Requirement already satisfied: typing-extensions in /usr/local/lib/python3.9/dist-packages (from torch) (4.5.0)\n"
          ]
        }
      ]
    },
    {
      "cell_type": "code",
      "source": [
        "import torch\n",
        "from torch import nn\n",
        "import matplotlib.pyplot as plt"
      ],
      "metadata": {
        "id": "yopSOGYsCqLq"
      },
      "execution_count": 22,
      "outputs": []
    },
    {
      "cell_type": "code",
      "source": [
        "\n",
        "def Node_Classification(Nodes, Edges, sizes):\n",
        "  '''\n",
        "    Parameters--\n",
        "    Nodes:       A PyTorch tensor representing the features of each node in the graph.       \n",
        "    Edges:      A PyTorch tensor representing the Edges in the graph.\n",
        "    sizes:      A list of integers representing the sizes of each layer in the GCN. \n",
        "  '''\n",
        "  adjacent_matrix  = torch.eye(len(Nodes))\n",
        "  adjacent_matrix [Edges[:, 0], Edges[:, 1]] = 1\n",
        "  adjacent_matrix [Edges[:, 1], Edges[:, 0]] = 1\n",
        "\n",
        "  for i in range(len(sizes) - 1):\n",
        "      layer = nn.Linear(sizes[i], sizes[i+1])\n",
        "      Nodes = torch.sigmoid(layer(adjacent_matrix  @ Nodes))  # @ -> Matrix Multiplication \n",
        "\n",
        "  return Nodes"
      ],
      "metadata": {
        "id": "NeTxYT1E-iUg"
      },
      "execution_count": 23,
      "outputs": []
    },
    {
      "cell_type": "markdown",
      "source": [
        "* The function first constructs an adjacent_matrix for the graph using the torch.eye function to initialize a matrix with ones on the diagonal and zeros elsewhere. \n",
        "\n",
        "* It then sets the values of the matrix to 1 for each edge in the edges tensor. The adjacent_matrix is a representation of the graph structure that the GCN operates on.\n",
        "\n",
        "* The function then iterates over the layers in the GCN, creating a linear transformation layer for each layer using the nn.Linear function. \n",
        "\n",
        "* The torch.sigmoid function is then applied to the result of the linear transformation of the adjacent_matrix and the node features (adjacent_matrix  @ vertices) to produce the output of each layer.\n",
        "\n",
        "The final output of the function is the result of applying all the layers to the input node features.\n"
      ],
      "metadata": {
        "id": "0nguusubELt8"
      }
    },
    {
      "cell_type": "markdown",
      "source": [
        "# Pass 'Node_Classification' Parameters"
      ],
      "metadata": {
        "id": "X0u3VI_WDiMb"
      }
    },
    {
      "cell_type": "code",
      "source": [
        "# Define Node\n",
        "\n",
        "# In this example, each node has two features represented as a 2-dimensional tensor.\n",
        "\n",
        "Nodes = torch.tensor([[0, 1.0], [2.0, 3.0], [4.0, 5.0]])\n",
        "\n",
        "\n",
        "# Define Edges\n",
        "\n",
        "# Each row of Edges represents an edge between two nodes, \n",
        "# where the two elements in the row are the indices of the nodes in the Node tensor.\n",
        " \n",
        "Edges = torch.tensor([[0, 1], [1, 2], [2, 0]])\n",
        "\n",
        "# define sizes \n",
        "\n",
        "# The first integer in the list is the size of the input layer (i.e., the number of features per node)\n",
        "# The integers in between are the sizes of the hidden layers.\n",
        "# The last integer is the size of the output layer, \n",
        "\n",
        "sizes = [2, 4, 1]\n",
        "\n",
        "# Create plot\n",
        "fig, ax = plt.subplots()\n",
        "\n",
        "# Plot vertices\n",
        "ax.scatter(Nodes[:,0], Nodes[:,1], color='r')\n",
        "\n",
        "# Plot edges\n",
        "for edge in Edges:\n",
        "    ax.plot(Nodes[edge, 0], Nodes[edge, 1], color='b')\n",
        "\n",
        "# Show plot\n",
        "plt.show()\n"
      ],
      "metadata": {
        "colab": {
          "base_uri": "https://localhost:8080/",
          "height": 265
        },
        "id": "7wntmyt1BASQ",
        "outputId": "1021bdd3-cfe9-4318-d9de-72bf6f3e5179"
      },
      "execution_count": 24,
      "outputs": [
        {
          "output_type": "display_data",
          "data": {
            "text/plain": [
              "<Figure size 432x288 with 1 Axes>"
            ],
            "image/png": "[encoded data removed]"
          },
          "metadata": {
            "needs_background": "light"
          }
        }
      ]
    },
    {
      "cell_type": "code",
      "source": [],
      "metadata": {
        "id": "R9DPNMBpHeuQ"
      },
      "execution_count": 24,
      "outputs": []
    },
    {
      "cell_type": "code",
      "source": [
        "# Compute output\n",
        "output = Node_Classification(Nodes, Edges, sizes)\n",
        "print(output)"
      ],
      "metadata": {
        "colab": {
          "base_uri": "https://localhost:8080/"
        },
        "id": "Ydv8LQE4DvOB",
        "outputId": "c3a798ff-1baa-4e64-ba12-4707a71c8fd9"
      },
      "execution_count": 25,
      "outputs": [
        {
          "output_type": "stream",
          "name": "stdout",
          "text": [
            "tensor([[0.5308],\n",
            "        [0.5308],\n",
            "        [0.5308]], grad_fn=<SigmoidBackward0>)\n"
          ]
        }
      ]
    },
    {
      "cell_type": "markdown",
      "source": [
        " The output of the function is a PyTorch tensor representing the output of the GCN for each node in the graph."
      ],
      "metadata": {
        "id": "AnQA4FnYGKG5"
      }
    },
    {
      "cell_type": "markdown",
      "source": [
        "The output of the GCN for each node in the input graph is a value between 0 and 1 that represents the node's activation or importance in the context of the graph.\n",
        "\n",
        "In this particular example, the output tensor tensor([[0.5308], [0.5308], [0.5308]], grad_fn=<SigmoidBackward0>) indicates that all three nodes in the input graph have similar activations, with a value of around 0.53. \n",
        "\n",
        "Since the node value are more than 0.50. We can tell all the nodes have equal importance \n",
        "\n",
        "Generally, the sigmoid activation function used in the GCN model maps the output of the linear transformation to a value between 0 and 1, which can be interpreted as a probability-like measure of the node's importance. Therefore, a higher output value would indicate that the node has a stronger activation or is more important in the context of the graph.\n",
        "\n",
        "It's worth noting that the output of the GCN is dependent on the specific input graph and feature information, as well as the parameters and architecture of the GCN model. Therefore, the interpretation of the output may vary depending on the specific application and data.\n",
        "\n",
        "\n",
        "\n",
        "\n",
        "\n",
        "\n",
        "\n",
        "\n"
      ],
      "metadata": {
        "id": "JqpOsa4MGh_p"
      }
    },
    {
      "cell_type": "code",
      "source": [],
      "metadata": {
        "id": "3REtVa9rDWFh"
      },
      "execution_count": 25,
      "outputs": []
    }
  ]
}